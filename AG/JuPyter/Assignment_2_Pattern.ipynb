{
 "cells": [
  {
   "cell_type": "code",
   "execution_count": 23,
   "id": "74fc937e",
   "metadata": {},
   "outputs": [
    {
     "name": "stdout",
     "output_type": "stream",
     "text": [
      "Enter any odd number of row : 9\n",
      "*  \n",
      "*  *  \n",
      "*  *  *  \n",
      "*  *  *  *  \n",
      "*  *  *  *  *  \n",
      "*  *  *  *  \n",
      "*  *  *  \n",
      "*  *  \n",
      "*  \n"
     ]
    }
   ],
   "source": [
    "#Pattern\n",
    "#Input 9\n",
    "# Enter any odd number of row : 9\n",
    "# *  \n",
    "# *  *  \n",
    "# *  *  *  \n",
    "# *  *  *  *  \n",
    "# *  *  *  *  *  \n",
    "# *  *  *  *  \n",
    "# *  *  *  \n",
    "# *  *  \n",
    "# *  \n",
    "\n",
    "\n",
    "import math\n",
    "\n",
    "row_num = int(input('Enter any odd number of row : '))\n",
    "\n",
    "first_half = math.ceil(row_num/2)\n",
    "for row in range(1,first_half+1):\n",
    "    print('*  '*row)\n",
    "    \n",
    "    \n",
    "second_half = row_num - first_half\n",
    "for row in range(second_half,0,-1):\n",
    "    print('*  '*row)"
   ]
  },
  {
   "cell_type": "code",
   "execution_count": null,
   "id": "59459ca4",
   "metadata": {},
   "outputs": [],
   "source": []
  },
  {
   "cell_type": "code",
   "execution_count": null,
   "id": "ace25321",
   "metadata": {},
   "outputs": [],
   "source": []
  }
 ],
 "metadata": {
  "kernelspec": {
   "display_name": "Python 3",
   "language": "python",
   "name": "python3"
  },
  "language_info": {
   "codemirror_mode": {
    "name": "ipython",
    "version": 3
   },
   "file_extension": ".py",
   "mimetype": "text/x-python",
   "name": "python",
   "nbconvert_exporter": "python",
   "pygments_lexer": "ipython3",
   "version": "3.9.4"
  }
 },
 "nbformat": 4,
 "nbformat_minor": 5
}
