{
 "cells": [
  {
   "cell_type": "markdown",
   "metadata": {},
   "source": [
    "## Task\n",
    "You are given a string S. It consists of alphanumeric characters, spaces and symbols(+,-).\n",
    "\n",
    "Your task is to find all the substrings of S that contains 2 or more vowels.\n",
    "Also, these substrings must lie in between 2 consonants and should contain vowels only.\n",
    "\n",
    "Note :\n",
    "Vowels are defined as: AEIOU and aeiou.\n",
    "Consonants are defined as: QWRTYPSDFGHJKLZXCVBNM and qwrtypsdfghjklzxcvbnm.\n",
    "Input Format\n",
    "\n",
    "A single line of input containing string S.\n",
    "\n",
    "Constraints\n",
    "0<len(S)<1000<len(S)<100\n",
    "\n",
    "Output Format\n",
    "Print the matched substrings in their order of occurrence on separate lines.\n",
    "If no match is found, print -1.\n",
    "\n",
    "Sample Input\n",
    "rabcdeefgyYhFjkIoomnpOeorteeeeet\n",
    "\n",
    "Sample Output\n",
    "ee\n",
    "Ioo\n",
    "Oeo\n",
    "eeeee\n"
   ]
  },
  {
   "cell_type": "code",
   "execution_count": 2,
   "metadata": {},
   "outputs": [
    {
     "name": "stdout",
     "output_type": "stream",
     "text": [
      "rabcdeefgyYhFjkIoomnpOeorteeeeet\n",
      "deef\n",
      "kIoom\n",
      "pOeor\n",
      "teeeeet\n"
     ]
    }
   ],
   "source": [
    "import re\n",
    "\n",
    "v=\"bcdfghjklmnpqrstvwxyz\" \n",
    "l=re.findall(r\"[aeiou]{2,}|[bcdfghjklmnpqrstvwxyz][aeiou]{2,}[bcdfghjklmnpqrstvwxyz]\",input(),flags=re.IGNORECASE) \n",
    "if not l: \n",
    "    print(-1) \n",
    "else: \n",
    "    for i in l: \n",
    "        print(i) "
   ]
  },
  {
   "cell_type": "markdown",
   "metadata": {},
   "source": [
    "## Inheritance"
   ]
  },
  {
   "cell_type": "code",
   "execution_count": 6,
   "metadata": {},
   "outputs": [
    {
     "name": "stdout",
     "output_type": "stream",
     "text": [
      "Prabin Nepal\n"
     ]
    }
   ],
   "source": [
    "class Person:\n",
    "    def __init__(self, fname, lname):\n",
    "        self.fname = fname\n",
    "        self.lname = lname\n",
    "    \n",
    "    def print_name(self):\n",
    "        print(self.fname, self.lname)\n",
    "        \n",
    "x = Person(\"Prabin\", \"Nepal\")\n",
    "x.print_name()"
   ]
  },
  {
   "cell_type": "code",
   "execution_count": 17,
   "metadata": {},
   "outputs": [],
   "source": [
    "class Student(Person):\n",
    "    def __init__(self, fname, lname):\n",
    "#         Person.__init__(self, fname, lname)\n",
    "        super().__init__(fname, lname)\n",
    "#         self.graduationyear = year\n",
    "        "
   ]
  },
  {
   "cell_type": "code",
   "execution_count": 18,
   "metadata": {},
   "outputs": [
    {
     "name": "stdout",
     "output_type": "stream",
     "text": [
      "John Ali\n"
     ]
    }
   ],
   "source": [
    "x = Student(\"John\", 'Ali')\n",
    "x.print_name()"
   ]
  },
  {
   "cell_type": "code",
   "execution_count": null,
   "metadata": {},
   "outputs": [],
   "source": [
    "class Polygon:\n",
    "    '''\n",
    "    parameters: length, breadth\n",
    "    '''\n",
    "        def __init__():\n",
    "            pass\n",
    "        \n",
    "        def area():\n",
    "            pass\n",
    "        \n",
    "        def perimeter():\n",
    "            pass\n",
    "\n",
    "class Rectangle(Polygon):\n",
    "    "
   ]
  },
  {
   "cell_type": "code",
   "execution_count": 25,
   "metadata": {},
   "outputs": [
    {
     "name": "stdout",
     "output_type": "stream",
     "text": [
      "perimeter= 5\n"
     ]
    }
   ],
   "source": [
    "class polygon: \n",
    "    def __init__(self,legth,breath): \n",
    "        self.length=legth \n",
    "        self.breath=breath \n",
    "        \n",
    "    def area(self): \n",
    "        print(\"area is: \",self.length*self.breath) \n",
    "        \n",
    "    def perimeter(self): \n",
    "        print(\"perimeter=\",self.length+self.breath) \n",
    "\n",
    "class rectangle(polygon): \n",
    "    def __init__(self, legth, breath):\n",
    "        polygon.__init__(self, legth,breath) \n",
    "\n",
    "x=rectangle(2,3) \n",
    "# x.area() \n",
    "x.perimeter()\n",
    "# print(x.perimeter())"
   ]
  },
  {
   "cell_type": "code",
   "execution_count": null,
   "metadata": {},
   "outputs": [],
   "source": [
    "def rect_area(length, breadth):\n",
    "    '''\n",
    "    Parameters:\n",
    "        length: lenght of a rectangle: int\n",
    "        breadth: breadth of the rectangle: int\n",
    "        \n",
    "    Returns:\n",
    "        area of the rectangle\n",
    "    '''\n",
    "    area = length * breadth\n",
    "    return area\n",
    "    "
   ]
  },
  {
   "cell_type": "markdown",
   "metadata": {},
   "source": [
    "## Multilevel Inheritance"
   ]
  },
  {
   "cell_type": "code",
   "execution_count": null,
   "metadata": {},
   "outputs": [],
   "source": [
    "class A:\n",
    "    pass\n",
    "\n",
    "class B(A):\n",
    "    pass\n",
    "\n",
    "class C(A):\n",
    "    pass"
   ]
  },
  {
   "cell_type": "markdown",
   "metadata": {},
   "source": [
    "## What is set in python?\n",
    "## What does map() does in python?\n",
    "## Demonstrate use of enumerate() in python"
   ]
  },
  {
   "cell_type": "markdown",
   "metadata": {},
   "source": [
    "## Which of the following is right method for creating dictionary?\n",
    "a) d = {} <br/>\n",
    "b) d = {'Prabin':40, 'Nepal':50} <br/>\n",
    "c) d = {40:'Python', 60:'language'} <br/>\n",
    "d) d = {4:'a', 3:'b'}"
   ]
  },
  {
   "cell_type": "markdown",
   "metadata": {},
   "source": [
    "## Floor Division"
   ]
  },
  {
   "cell_type": "code",
   "execution_count": 28,
   "metadata": {},
   "outputs": [
    {
     "data": {
      "text/plain": [
       "2"
      ]
     },
     "execution_count": 28,
     "metadata": {},
     "output_type": "execute_result"
    }
   ],
   "source": [
    "5//2"
   ]
  },
  {
   "cell_type": "code",
   "execution_count": null,
   "metadata": {},
   "outputs": [],
   "source": []
  }
 ],
 "metadata": {
  "kernelspec": {
   "display_name": "Python 3",
   "language": "python",
   "name": "python3"
  },
  "language_info": {
   "codemirror_mode": {
    "name": "ipython",
    "version": 3
   },
   "file_extension": ".py",
   "mimetype": "text/x-python",
   "name": "python",
   "nbconvert_exporter": "python",
   "pygments_lexer": "ipython3",
   "version": "3.8.5"
  }
 },
 "nbformat": 4,
 "nbformat_minor": 4
}
