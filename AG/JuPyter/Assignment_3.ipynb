{
 "cells": [
  {
   "cell_type": "code",
   "execution_count": 13,
   "id": "62a9a0a6",
   "metadata": {},
   "outputs": [
    {
     "name": "stdout",
     "output_type": "stream",
     "text": [
      "Enter a number of key-paired value you want : 6\n",
      "{1: 1, 2: 4, 3: 9, 4: 16, 5: 25, 6: 36}\n"
     ]
    }
   ],
   "source": [
    "# 1. With a given integral number n, write a program to generate a dictionary that contains (i, i x i) such that is an integral number between 1 and n (both included). and then the program should print the dictionary.\n",
    "\n",
    "\n",
    "total_number = int(input('Enter a number of key-paired value you want : '))\n",
    "dictionary = {}\n",
    "for numb in range(1,total_number+1):\n",
    "    dictionary[numb]=numb*numb\n",
    "print(dictionary)\n"
   ]
  },
  {
   "cell_type": "code",
   "execution_count": 12,
   "id": "5e7b6285",
   "metadata": {},
   "outputs": [
    {
     "name": "stdout",
     "output_type": "stream",
     "text": [
      "[24, 35, 9, 56, 12]\n"
     ]
    }
   ],
   "source": [
    "# 2. Write a python program to interchange first and last elements in a list    \n",
    "\n",
    "list1 = [12, 35, 9, 56, 24]\n",
    "temp = list1[0]\n",
    "list1[0]=list1[-1]\n",
    "list1[-1]=temp\n",
    "print(list1)"
   ]
  },
  {
   "cell_type": "code",
   "execution_count": 14,
   "id": "a36d1098",
   "metadata": {},
   "outputs": [
    {
     "name": "stdout",
     "output_type": "stream",
     "text": [
      "[19, 65, 23, 90]\n"
     ]
    }
   ],
   "source": [
    "# 3. Write a program to swap two elements in a list\n",
    "#  List = [23, 65, 19, 90], pos1 = 0, pos2 = 2\n",
    "\n",
    "list1 = [23, 65, 19, 90]\n",
    "pos1 = 0\n",
    "pos2 = 2\n",
    "\n",
    "list1[pos1], list1[pos2] = list1[pos2], list1[pos1]\n",
    "print(list1)\n"
   ]
  },
  {
   "cell_type": "code",
   "execution_count": 15,
   "id": "ccb0e51d",
   "metadata": {},
   "outputs": [
    {
     "data": {
      "text/plain": [
       "True"
      ]
     },
     "execution_count": 15,
     "metadata": {},
     "output_type": "execute_result"
    }
   ],
   "source": [
    "# 4. What is the result of “bag” > “apple”?\n",
    "\n",
    "'bag'>'apple'\n",
    "#True"
   ]
  },
  {
   "cell_type": "code",
   "execution_count": 16,
   "id": "8cdfa36c",
   "metadata": {},
   "outputs": [
    {
     "data": {
      "text/plain": [
       "False"
      ]
     },
     "execution_count": 16,
     "metadata": {},
     "output_type": "execute_result"
    }
   ],
   "source": [
    "# 5. What is the result of not(True or False)\n",
    "\n",
    "not( True or False )\n",
    "#False"
   ]
  },
  {
   "cell_type": "code",
   "execution_count": 20,
   "id": "d933561a",
   "metadata": {},
   "outputs": [
    {
     "name": "stdout",
     "output_type": "stream",
     "text": [
      "1\n",
      "22\n",
      "333\n",
      "4444\n",
      "55555\n"
     ]
    }
   ],
   "source": [
    "# 6. Write the program to output following pattern\n",
    "\n",
    "for i in range (1,6):\n",
    "    print(str(i)*i)\n",
    "\n",
    "# Output :\n",
    "# 1\n",
    "# 22\n",
    "# 333\n",
    "# 4444\n",
    "# 55555"
   ]
  },
  {
   "cell_type": "code",
   "execution_count": 25,
   "id": "8b8b06f9",
   "metadata": {},
   "outputs": [
    {
     "name": "stdout",
     "output_type": "stream",
     "text": [
      "1\n",
      "12\n",
      "123\n",
      "1234\n",
      "12345\n"
     ]
    }
   ],
   "source": [
    "# 7.\n",
    "row = ''\n",
    "for i in range (1,6):\n",
    "    row = row + str(i)\n",
    "    print(row)\n",
    "    \n",
    "# Output:\n",
    "# 1\n",
    "# 12\n",
    "# 123\n",
    "# 1234\n",
    "# 12345"
   ]
  },
  {
   "cell_type": "code",
   "execution_count": 27,
   "id": "a842368f",
   "metadata": {},
   "outputs": [
    {
     "name": "stdout",
     "output_type": "stream",
     "text": [
      "55555\n",
      "5555\n",
      "555\n",
      "55\n",
      "5\n"
     ]
    }
   ],
   "source": [
    "# 8.\n",
    "for i in range(5):\n",
    "    print('5'*(5-i))\n",
    "    \n",
    "    \n",
    "# Output :\n",
    "# 55555\n",
    "# 5555\n",
    "# 555\n",
    "# 55\n",
    "# 5"
   ]
  },
  {
   "cell_type": "code",
   "execution_count": 28,
   "id": "881aab52",
   "metadata": {},
   "outputs": [
    {
     "name": "stdout",
     "output_type": "stream",
     "text": [
      "Hello!,  Sam\n",
      "Hello!,  Lisa\n",
      "Hello!,  Micha\n",
      "Hello!,  Dave\n",
      "Hello!,  Wyatt\n",
      "Hello!,  Emma\n",
      "Hello!,  Sage\n"
     ]
    }
   ],
   "source": [
    "# 9. Write a for loop which print \"Hello!, \" plus each name in the list. i.e.: \"Hello!, Sam\"\n",
    "\n",
    "lst=[\"Sam\", \"Lisa\", \"Micha\", \"Dave\", \"Wyatt\", \"Emma\", \"Sage\"]\n",
    "for name in lst:\n",
    "    print('Hello!, ',name)\n",
    "    \n",
    "    \n",
    "#Output :\n",
    "# Hello!,  Sam\n",
    "# Hello!,  Lisa\n",
    "# Hello!,  Micha\n",
    "# Hello!,  Dave\n",
    "# Hello!,  Wyatt\n",
    "# Hello!,  Emma\n",
    "# Hello!,  Sage\n"
   ]
  },
  {
   "cell_type": "code",
   "execution_count": 30,
   "id": "c2bf4e39",
   "metadata": {},
   "outputs": [
    {
     "name": "stdout",
     "output_type": "stream",
     "text": [
      "18\n",
      "18\n"
     ]
    }
   ],
   "source": [
    "#10. Count the number of characters present in the string using for loop:\n",
    "\n",
    "string1 = 'Python Programming'\n",
    "num = 0\n",
    "for i in string1:\n",
    "    num += 1\n",
    "print(num)\n",
    "print(len(string1))\n",
    "\n",
    "#Output\n",
    "# 18\n",
    "# 18"
   ]
  },
  {
   "cell_type": "code",
   "execution_count": 31,
   "id": "bee0322f",
   "metadata": {},
   "outputs": [
    {
     "name": "stdout",
     "output_type": "stream",
     "text": [
      "[1, 4, 9, 16, 25, 36, 49, 64]\n"
     ]
    }
   ],
   "source": [
    "# 11. Write a for loop which appends the square of each number to the new list.\n",
    "\n",
    "number = 8\n",
    "list1=[]\n",
    "for n in range(1,number+1):\n",
    "    list1.append(n*n)\n",
    "print(list1)\n",
    "\n",
    "#Output :\n",
    "#[1, 4, 9, 16, 25, 36, 49, 64]\n"
   ]
  },
  {
   "cell_type": "code",
   "execution_count": 32,
   "id": "5ae2dc8a",
   "metadata": {},
   "outputs": [
    {
     "name": "stdout",
     "output_type": "stream",
     "text": [
      "[1, 16, 81, 256, 625, 1296, 2401, 4096]\n"
     ]
    }
   ],
   "source": [
    "# Or\n",
    "list2 = [1, 4, 9, 16, 25, 36, 49, 64]\n",
    "list3 = []\n",
    "for i in list2:\n",
    "    list3.append(i*i)\n",
    "print(list3)"
   ]
  }
 ],
 "metadata": {
  "kernelspec": {
   "display_name": "Python 3",
   "language": "python",
   "name": "python3"
  },
  "language_info": {
   "codemirror_mode": {
    "name": "ipython",
    "version": 3
   },
   "file_extension": ".py",
   "mimetype": "text/x-python",
   "name": "python",
   "nbconvert_exporter": "python",
   "pygments_lexer": "ipython3",
   "version": "3.9.4"
  }
 },
 "nbformat": 4,
 "nbformat_minor": 5
}
