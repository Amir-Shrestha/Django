{
 "cells": [
  {
   "cell_type": "code",
   "execution_count": 33,
   "id": "54d2860e",
   "metadata": {},
   "outputs": [
    {
     "name": "stdout",
     "output_type": "stream",
     "text": [
      "Dip\n"
     ]
    }
   ],
   "source": [
    "word = 'JhonDipPeta'\n",
    "print(word[4:7])"
   ]
  },
  {
   "cell_type": "code",
   "execution_count": 35,
   "id": "04f9f58b",
   "metadata": {},
   "outputs": [
    {
     "name": "stdout",
     "output_type": "stream",
     "text": [
      "Son\n"
     ]
    }
   ],
   "source": [
    "word = 'JaSonAy'\n",
    "print(word[2:5])"
   ]
  },
  {
   "cell_type": "code",
   "execution_count": 43,
   "id": "e580e17b",
   "metadata": {},
   "outputs": [
    {
     "name": "stdout",
     "output_type": "stream",
     "text": [
      "countrylandlocked\n"
     ]
    }
   ],
   "source": [
    "word1 = 'nepal, a landlocked country'\n",
    "word1 = word1.split()\n",
    "print(word1[-1]+word1[-2])"
   ]
  },
  {
   "cell_type": "code",
   "execution_count": 74,
   "id": "86cbec49",
   "metadata": {},
   "outputs": [
    {
     "name": "stdout",
     "output_type": "stream",
     "text": [
      "xyc\n",
      "abz\n"
     ]
    }
   ],
   "source": [
    "string1 = 'abc'\n",
    "string2 = 'xyz'\n",
    "temp = string1\n",
    "\n",
    "string1 = string1.replace(string1[0],string2[0])\n",
    "string1 = string1.replace(string1[1],string2[1])\n",
    "\n",
    "string2 = string2.replace(string2[0],temp[0])\n",
    "string2 = string2.replace(string2[1],temp[1])\n",
    "\n",
    "print(string1)\n",
    "print(string2)\n"
   ]
  },
  {
   "cell_type": "code",
   "execution_count": 75,
   "id": "86f8b920",
   "metadata": {},
   "outputs": [
    {
     "name": "stdout",
     "output_type": "stream",
     "text": [
      "PYnative\n"
     ]
    }
   ],
   "source": [
    "str1 = 'evitanYP'\n",
    "str1 = str1[::-1]\n",
    "print(str1)\n",
    "# str2 = str2[start:end:step]"
   ]
  },
  {
   "cell_type": "code",
   "execution_count": 76,
   "id": "8438d272",
   "metadata": {},
   "outputs": [
    {
     "name": "stdout",
     "output_type": "stream",
     "text": [
      "gnimmargorP\n"
     ]
    }
   ],
   "source": [
    "str2 = 'Programming'\n",
    "str2 = str2[::-1]\n",
    "print(str2)\n",
    "# str2 = str2[start:end:step]"
   ]
  }
 ],
 "metadata": {
  "kernelspec": {
   "display_name": "Python 3",
   "language": "python",
   "name": "python3"
  },
  "language_info": {
   "codemirror_mode": {
    "name": "ipython",
    "version": 3
   },
   "file_extension": ".py",
   "mimetype": "text/x-python",
   "name": "python",
   "nbconvert_exporter": "python",
   "pygments_lexer": "ipython3",
   "version": "3.9.4"
  }
 },
 "nbformat": 4,
 "nbformat_minor": 5
}
