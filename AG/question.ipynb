{
 "cells": [
  {
   "cell_type": "code",
   "execution_count": null,
   "metadata": {},
   "outputs": [],
   "source": [
    "class A2:\n",
    "    name2='Amir'\n",
    "    age2=21\n",
    "    def show2(self):\n",
    "        print('Hello class A !')\n",
    "    \n",
    "class B2(A2):\n",
    "    naam2='Zoya'\n",
    "    umer2=19\n",
    "    def output2(self):\n",
    "        print('Hello class B !')\n",
    "        super().show2()\n",
    "        obj2.show2()\n",
    "        self.show2()\n",
    "        \n",
    "obj2=B2()\n",
    "print(obj2.naam2)\n",
    "print(obj2.umer2)\n",
    "obj2.output2()\n",
    "\n",
    "\n",
    "# here we can use same object(obj2) to inherit outside the class"
   ]
  }
 ],
 "metadata": {
  "kernelspec": {
   "display_name": "Python 3",
   "language": "python",
   "name": "python3"
  },
  "language_info": {
   "codemirror_mode": {
    "name": "ipython",
    "version": 3
   },
   "file_extension": ".py",
   "mimetype": "text/x-python",
   "name": "python",
   "nbconvert_exporter": "python",
   "pygments_lexer": "ipython3",
   "version": "3.8.4"
  }
 },
 "nbformat": 4,
 "nbformat_minor": 4
}
