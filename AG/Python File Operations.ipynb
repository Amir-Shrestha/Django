{
 "cells": [
  {
   "cell_type": "code",
   "execution_count": 20,
   "metadata": {},
   "outputs": [
    {
     "data": {
      "text/plain": [
       "['388,21,571,21,571,97,388,97\\n',\n",
       " '670,22,935,58,924,137,659,101\\n',\n",
       " '31,64,64,64,108,65,174,64,219,65,258,68,296,70,296,91,257,89,218,86,174,86,108,87,62,85,29,86\\n',\n",
       " '33,91,58,91,58,111,33,111\\n',\n",
       " '212,90,363,106,355,183,204,167\\n',\n",
       " '402,102,529,105,528,168,401,165\\n',\n",
       " '584,115,838,127,836,179,581,167\\n',\n",
       " '901,120,1022,120,1022,181,901,181\\n',\n",
       " '33,124,146,124,146,146,33,146\\n',\n",
       " '165,167,196,169,257,177,294,175,333,178,392,173,423,174,432,218,400,217,335,223,293,220,256,222,193,214,161,211\\n',\n",
       " '482,188,502,188,532,189,539,187,570,184,586,175,604,168,615,206,597,213,576,223,549,225,529,229,504,228,484,227\\n',\n",
       " '857,193,1207,177,1210,241,859,257\\n',\n",
       " '653,187,678,185,706,185,729,188,771,185,799,199,823,202,809,247,786,244,756,230,734,235,703,232,677,232,652,234\\n']"
      ]
     },
     "execution_count": 20,
     "metadata": {},
     "output_type": "execute_result"
    }
   ],
   "source": [
    "f = open('demo_file.txt') # if file is in current working directory   #relative path\n",
    "# f = open('/home/prabin/DLCV/python-course/demo_file.txt') # specifying full path # absolute path\n",
    "f.readlines()"
   ]
  },
  {
   "cell_type": "markdown",
   "metadata": {},
   "source": [
    "Relative path is defined as the path related to the present working directly. An absolute path is defined as specifying the location of a file or directory from the root directory (/)"
   ]
  },
  {
   "cell_type": "code",
   "execution_count": 21,
   "metadata": {},
   "outputs": [
    {
     "name": "stdout",
     "output_type": "stream",
     "text": [
      "lines 13\n"
     ]
    }
   ],
   "source": [
    "f = open('/home/prabin/DLCV/python-course/demo_file.txt') # specifying full path # absolute path\n",
    "count = 0\n",
    "for line in f:\n",
    "    count += 1\n",
    "print('lines', count)"
   ]
  },
  {
   "cell_type": "code",
   "execution_count": 27,
   "metadata": {},
   "outputs": [],
   "source": [
    "with open('demo_file.txt', 'r', encoding='utf-8') as f:\n",
    "    lines = f.readlines()\n",
    "    for i in lines:\n",
    "        with open('demo_file1.txt', 'a', encoding='utf-8') as f:\n",
    "            f.write(i)"
   ]
  },
  {
   "cell_type": "code",
   "execution_count": null,
   "metadata": {},
   "outputs": [],
   "source": [
    "    "
   ]
  },
  {
   "cell_type": "code",
   "execution_count": null,
   "metadata": {},
   "outputs": [],
   "source": []
  }
 ],
 "metadata": {
  "kernelspec": {
   "display_name": "Python 3",
   "language": "python",
   "name": "python3"
  },
  "language_info": {
   "codemirror_mode": {
    "name": "ipython",
    "version": 3
   },
   "file_extension": ".py",
   "mimetype": "text/x-python",
   "name": "python",
   "nbconvert_exporter": "python",
   "pygments_lexer": "ipython3",
   "version": "3.8.5"
  }
 },
 "nbformat": 4,
 "nbformat_minor": 4
}
